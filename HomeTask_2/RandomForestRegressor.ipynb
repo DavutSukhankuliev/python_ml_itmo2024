{
  "cells": [
    {
      "cell_type": "markdown",
      "source": [
        "Начать с использования регрессии случайного леса в качестве базовой модели. Я выбрал случайный лес, поскольку он относительно прост для понимания, обобщает хорошо и не требует масштабирования данных или большого количества предварительной обработки"
      ],
      "metadata": {
        "id": "UiH8eP4I2-5h"
      }
    },
    {
      "cell_type": "code",
      "source": [
        "import pandas as pd\n",
        "from sklearn.model_selection import train_test_split\n",
        "from sklearn.ensemble import RandomForestRegressor\n",
        "from sklearn.metrics import mean_squared_error\n",
        "from math import sqrt\n",
        "import numpy as np\n",
        "\n",
        "# Загрузим данные\n",
        "df = pd.read_csv('Yulu.csv')\n",
        "\n",
        "# Преобразуем 'datetime' в datetime формат и извлечем отдельные признаки\n",
        "df['datetime'] = pd.to_datetime(df['datetime'])\n",
        "df['year'] = df['datetime'].dt.year\n",
        "df['month'] = df['datetime'].dt.month\n",
        "df['day'] = df['datetime'].dt.day\n",
        "df['hour'] = df['datetime'].dt.hour\n",
        "\n",
        "# Теперь можем удалить 'datetime'\n",
        "df = df.drop(columns=['datetime'])\n",
        "\n",
        "# Извлечем векторы меток и признаков.\n",
        "X = df.drop('count', axis=1)\n",
        "y = df['count']\n",
        "\n",
        "# Разделим данные на тренировочную и тестовую выборки\n",
        "X_train, X_test, y_train, y_test = train_test_split(X, y, test_size=0.2, random_state=42)\n",
        "\n",
        "# Обучаем базовую модель\n",
        "baseline_model = RandomForestRegressor()\n",
        "baseline_model.fit(X_train,y_train)\n",
        "\n",
        "# Предсказания модели на тестовом наборе\n",
        "y_pred = baseline_model.predict(X_test)\n",
        "\n",
        "# Вычисляем RMSE\n",
        "rmse_model = sqrt(mean_squared_error(y_test, y_pred))\n",
        "print(\"RMSE модели: \", rmse_model)\n",
        "\n",
        "# Предсказания в виде среднего значения 'count'\n",
        "# Если мы хотим сравнить результаты модели со средним значением 'count' в качестве константного предсказания, то делаем следующее:\n",
        "y_mean = np.full(len(y_test), y_train.mean())\n",
        "\n",
        "# Вычисляем RMSE для среднего значения\n",
        "rmse_mean = sqrt(mean_squared_error(y_test, y_mean))\n",
        "print(\"RMSE константной модели: \", rmse_mean)"
      ],
      "metadata": {
        "colab": {
          "base_uri": "https://localhost:8080/"
        },
        "id": "jVe6Hc551OLi",
        "outputId": "00c926ce-9960-44fd-ccac-b791712825a1"
      },
      "execution_count": 3,
      "outputs": [
        {
          "output_type": "stream",
          "name": "stdout",
          "text": [
            "RMSE модели:  3.0471543801299705\n",
            "RMSE константной модели:  181.6781183339868\n"
          ]
        }
      ]
    },
    {
      "cell_type": "markdown",
      "source": [
        "Данная модель на основе RandomForestRegressor в среднем ошибается примерно на 3 единицы, в то время как константная модель ошибается примерно на 181.68 единицы. Это показывает бОльшую эффективность вышеобученной модели по сравнению с более простым подходом, который всегда предсказывает среднее значение 'count'."
      ],
      "metadata": {
        "id": "9M-yC5Cm4bZe"
      }
    },
    {
      "cell_type": "markdown",
      "source": [
        "Чтобы понять приемлимость данного значения необходимо узнать максимальное и минимальное значение Count"
      ],
      "metadata": {
        "id": "4KqQnjJs16e4"
      }
    },
    {
      "cell_type": "code",
      "source": [
        "# Загрузим данные\n",
        "df = pd.read_csv('Yulu.csv')\n",
        "\n",
        "# Получим минимальное и максимальное значение\n",
        "min_count = df['count'].min()\n",
        "max_count = df['count'].max()\n",
        "\n",
        "# Выводим минимальное и максимальное значение\n",
        "print(\"Минимальное значение count: \", min_count)\n",
        "print(\"Максимальное значение count: \", max_count)"
      ],
      "metadata": {
        "colab": {
          "base_uri": "https://localhost:8080/"
        },
        "id": "KUzpe-4R2DDz",
        "outputId": "02e26496-ce9f-4d20-d487-e089a1b3f333"
      },
      "execution_count": 2,
      "outputs": [
        {
          "output_type": "stream",
          "name": "stdout",
          "text": [
            "Минимальное значение count:  1\n",
            "Максимальное значение count:  977\n"
          ]
        }
      ]
    },
    {
      "cell_type": "markdown",
      "source": [
        "3 в 1000 не столь значительна, и поэтому мы можем сказать, что модель обучена хорошо"
      ],
      "metadata": {
        "id": "xdBT00jp2Giq"
      }
    },
    {
      "cell_type": "code",
      "source": [],
      "metadata": {
        "id": "RJyGBofG2Oxu"
      },
      "execution_count": null,
      "outputs": []
    }
  ],
  "metadata": {
    "colab": {
      "name": "Добро пожаловать в Colaboratory!",
      "toc_visible": true,
      "provenance": []
    },
    "kernelspec": {
      "display_name": "Python 3",
      "name": "python3"
    }
  },
  "nbformat": 4,
  "nbformat_minor": 0
}